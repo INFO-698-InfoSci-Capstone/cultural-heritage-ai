{
 "cells": [
  {
   "cell_type": "code",
   "execution_count": 2,
   "id": "657145e1-387e-4c95-a332-e846a8d8a96f",
   "metadata": {},
   "outputs": [
    {
     "name": "stdout",
     "output_type": "stream",
     "text": [
      "Found 5400 images.\n",
      "? All images resized and saved to 'chikankari_final_dataset'\n"
     ]
    }
   ],
   "source": [
    "from PIL import Image\n",
    "import os\n",
    "from pathlib import Path\n",
    "\n",
    "# Paths\n",
    "raw_dir = Path(\"data/rawData\")\n",
    "aug_dir = Path(\"data/augmentedData/unspecified\")\n",
    "output_dir = Path(\"chikankari_final_dataset\")\n",
    "output_dir.mkdir(parents=True, exist_ok=True)\n",
    "\n",
    "# Collect all image paths\n",
    "image_paths = list(raw_dir.glob(\"*.jpg\")) + list(raw_dir.glob(\"*.png\")) + \\\n",
    "              list(aug_dir.glob(\"*.jpg\")) + list(aug_dir.glob(\"*.png\"))\n",
    "\n",
    "print(f\"Found {len(image_paths)} images.\")\n",
    "\n",
    "# Resize and save\n",
    "for i, img_path in enumerate(image_paths):\n",
    "    try:\n",
    "        img = Image.open(img_path).convert(\"RGB\")\n",
    "        img = img.resize((512, 512))\n",
    "        save_path = output_dir / f\"image_{i:04d}.jpg\"\n",
    "        img.save(save_path)\n",
    "    except Exception as e:\n",
    "        print(f\"Failed to process {img_path.name}: {e}\")\n",
    "\n",
    "print(f\"? All images resized and saved to '{output_dir}'\")\n"
   ]
  },
  {
   "cell_type": "code",
   "execution_count": 13,
   "id": "f9cf6261-8216-4efe-a121-60120c1e5161",
   "metadata": {},
   "outputs": [
    {
     "data": {
      "application/vnd.jupyter.widget-view+json": {
       "model_id": "0530f0454de74e69b22ecb75f90622bd",
       "version_major": 2,
       "version_minor": 0
      },
      "text/plain": [
       "Loading pipeline components...:   0%|          | 0/7 [00:00<?, ?it/s]"
      ]
     },
     "metadata": {},
     "output_type": "display_data"
    },
    {
     "data": {
      "application/vnd.jupyter.widget-view+json": {
       "model_id": "c5a98c02faaf4e97a8aa4679cf8c09bc",
       "version_major": 2,
       "version_minor": 0
      },
      "text/plain": [
       "  0%|          | 0/50 [00:00<?, ?it/s]"
      ]
     },
     "metadata": {},
     "output_type": "display_data"
    },
    {
     "name": "stdout",
     "output_type": "stream",
     "text": [
      "Image 1 saved at ./finalderivedData/generated_chikankari_1.png\n"
     ]
    },
    {
     "data": {
      "application/vnd.jupyter.widget-view+json": {
       "model_id": "49a6899be5d54de5bf5e40666df7cece",
       "version_major": 2,
       "version_minor": 0
      },
      "text/plain": [
       "  0%|          | 0/50 [00:00<?, ?it/s]"
      ]
     },
     "metadata": {},
     "output_type": "display_data"
    },
    {
     "name": "stdout",
     "output_type": "stream",
     "text": [
      "Image 2 saved at ./finalderivedData/generated_chikankari_2.png\n"
     ]
    },
    {
     "data": {
      "application/vnd.jupyter.widget-view+json": {
       "model_id": "dd75e85c0bbc43eb9f0dc10eb43a0df6",
       "version_major": 2,
       "version_minor": 0
      },
      "text/plain": [
       "  0%|          | 0/50 [00:00<?, ?it/s]"
      ]
     },
     "metadata": {},
     "output_type": "display_data"
    },
    {
     "name": "stdout",
     "output_type": "stream",
     "text": [
      "Image 3 saved at ./finalderivedData/generated_chikankari_3.png\n"
     ]
    },
    {
     "data": {
      "application/vnd.jupyter.widget-view+json": {
       "model_id": "704c166345f74eb5ad949844de351219",
       "version_major": 2,
       "version_minor": 0
      },
      "text/plain": [
       "  0%|          | 0/50 [00:00<?, ?it/s]"
      ]
     },
     "metadata": {},
     "output_type": "display_data"
    },
    {
     "name": "stdout",
     "output_type": "stream",
     "text": [
      "Image 4 saved at ./finalderivedData/generated_chikankari_4.png\n"
     ]
    },
    {
     "data": {
      "application/vnd.jupyter.widget-view+json": {
       "model_id": "7716ab1622f34b9eb271e1e3b894cbff",
       "version_major": 2,
       "version_minor": 0
      },
      "text/plain": [
       "  0%|          | 0/50 [00:00<?, ?it/s]"
      ]
     },
     "metadata": {},
     "output_type": "display_data"
    },
    {
     "name": "stdout",
     "output_type": "stream",
     "text": [
      "Image 5 saved at ./finalderivedData/generated_chikankari_5.png\n"
     ]
    },
    {
     "data": {
      "application/vnd.jupyter.widget-view+json": {
       "model_id": "c0ad3711872446ea849e8deaf268019f",
       "version_major": 2,
       "version_minor": 0
      },
      "text/plain": [
       "  0%|          | 0/50 [00:00<?, ?it/s]"
      ]
     },
     "metadata": {},
     "output_type": "display_data"
    },
    {
     "name": "stderr",
     "output_type": "stream",
     "text": [
      "Potential NSFW content was detected in one or more images. A black image will be returned instead. Try again with a different prompt and/or seed.\n"
     ]
    },
    {
     "name": "stdout",
     "output_type": "stream",
     "text": [
      "Image 6 saved at ./finalderivedData/generated_chikankari_6.png\n"
     ]
    },
    {
     "data": {
      "application/vnd.jupyter.widget-view+json": {
       "model_id": "a98babcd93994f3ca4f08f12ddab16fb",
       "version_major": 2,
       "version_minor": 0
      },
      "text/plain": [
       "  0%|          | 0/50 [00:00<?, ?it/s]"
      ]
     },
     "metadata": {},
     "output_type": "display_data"
    },
    {
     "name": "stdout",
     "output_type": "stream",
     "text": [
      "Image 7 saved at ./finalderivedData/generated_chikankari_7.png\n"
     ]
    },
    {
     "data": {
      "application/vnd.jupyter.widget-view+json": {
       "model_id": "b4ef1b56533d4eba9fbb5fd0228946e7",
       "version_major": 2,
       "version_minor": 0
      },
      "text/plain": [
       "  0%|          | 0/50 [00:00<?, ?it/s]"
      ]
     },
     "metadata": {},
     "output_type": "display_data"
    },
    {
     "name": "stdout",
     "output_type": "stream",
     "text": [
      "Image 8 saved at ./finalderivedData/generated_chikankari_8.png\n"
     ]
    },
    {
     "data": {
      "application/vnd.jupyter.widget-view+json": {
       "model_id": "ece751c23b2b4a5fab48e438c28365cd",
       "version_major": 2,
       "version_minor": 0
      },
      "text/plain": [
       "  0%|          | 0/50 [00:00<?, ?it/s]"
      ]
     },
     "metadata": {},
     "output_type": "display_data"
    },
    {
     "name": "stderr",
     "output_type": "stream",
     "text": [
      "Potential NSFW content was detected in one or more images. A black image will be returned instead. Try again with a different prompt and/or seed.\n"
     ]
    },
    {
     "name": "stdout",
     "output_type": "stream",
     "text": [
      "Image 9 saved at ./finalderivedData/generated_chikankari_9.png\n"
     ]
    },
    {
     "data": {
      "application/vnd.jupyter.widget-view+json": {
       "model_id": "4a489233796e45bdba9c3b863afeda68",
       "version_major": 2,
       "version_minor": 0
      },
      "text/plain": [
       "  0%|          | 0/50 [00:00<?, ?it/s]"
      ]
     },
     "metadata": {},
     "output_type": "display_data"
    },
    {
     "name": "stderr",
     "output_type": "stream",
     "text": [
      "Potential NSFW content was detected in one or more images. A black image will be returned instead. Try again with a different prompt and/or seed.\n"
     ]
    },
    {
     "name": "stdout",
     "output_type": "stream",
     "text": [
      "Image 10 saved at ./finalderivedData/generated_chikankari_10.png\n"
     ]
    }
   ],
   "source": [
    "import os\n",
    "import torch\n",
    "from diffusers import StableDiffusionPipeline\n",
    "from diffusers import UNet2DConditionModel\n",
    "from diffusers.loaders import AttnProcsLayers\n",
    "\n",
    "base_model = \"runwayml/stable-diffusion-v1-5\"\n",
    "lora_weights = \"./outputs/chikankari_lora\"\n",
    "output_dir = \"./finalderivedData\"\n",
    "\n",
    "# Create output directory if it doesn't exist\n",
    "os.makedirs(output_dir, exist_ok=True)\n",
    "\n",
    "# Load the base model pipeline\n",
    "pipe = StableDiffusionPipeline.from_pretrained(base_model, torch_dtype=torch.float16)\n",
    "pipe.to(\"cuda\")\n",
    "\n",
    "# Load LoRA weights\n",
    "pipe.unet.load_attn_procs(lora_weights)\n",
    "\n",
    "# Inference: Generate 10 images\n",
    "prompt = \"An intricate and delicate Chikankari embroidery pattern with paisley designs\"\n",
    "for i in range(10):\n",
    "    image = pipe(prompt).images[0]\n",
    "    image_path = os.path.join(output_dir, f\"generated_chikankari_{i+1}.png\")\n",
    "    image.save(image_path)\n",
    "    print(f\"Image {i+1} saved at {image_path}\")\n",
    "\n"
   ]
  },
  {
   "cell_type": "code",
   "execution_count": null,
   "id": "ddfd9257-7129-46f2-9579-cc4264012989",
   "metadata": {},
   "outputs": [],
   "source": []
  }
 ],
 "metadata": {
  "kernelspec": {
   "display_name": "Python 3 (ipykernel)",
   "language": "python",
   "name": "python3"
  },
  "language_info": {
   "codemirror_mode": {
    "name": "ipython",
    "version": 3
   },
   "file_extension": ".py",
   "mimetype": "text/x-python",
   "name": "python",
   "nbconvert_exporter": "python",
   "pygments_lexer": "ipython3",
   "version": "3.12.3"
  }
 },
 "nbformat": 4,
 "nbformat_minor": 5
}
