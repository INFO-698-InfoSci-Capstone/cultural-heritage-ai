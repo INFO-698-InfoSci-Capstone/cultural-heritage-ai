{
 "cells": [
  {
   "cell_type": "code",
   "execution_count": 1,
   "id": "657145e1-387e-4c95-a332-e846a8d8a96f",
   "metadata": {},
   "outputs": [
    {
     "name": "stdout",
     "output_type": "stream",
     "text": [
      "Found 540 images.\n",
      "? All images resized and saved to 'chikankari_final_dataset'\n"
     ]
    }
   ],
   "source": [
    "from PIL import Image\n",
    "import os\n",
    "from pathlib import Path\n",
    "\n",
    "# Paths\n",
    "raw_dir = Path(\"data/rawData\")\n",
    "aug_dir = Path(\"data/augmentedData/unspecified\")\n",
    "output_dir = Path(\"chikankari_final_dataset\")\n",
    "output_dir.mkdir(parents=True, exist_ok=True)\n",
    "\n",
    "# Collect all image paths\n",
    "image_paths = list(raw_dir.glob(\"*.jpg\")) + list(raw_dir.glob(\"*.png\")) + \\\n",
    "              list(aug_dir.glob(\"*.jpg\")) + list(aug_dir.glob(\"*.png\"))\n",
    "\n",
    "print(f\"Found {len(image_paths)} images.\")\n",
    "\n",
    "# Resize and save\n",
    "for i, img_path in enumerate(image_paths):\n",
    "    try:\n",
    "        img = Image.open(img_path).convert(\"RGB\")\n",
    "        img = img.resize((512, 512))\n",
    "        save_path = output_dir / f\"image_{i:04d}.jpg\"\n",
    "        img.save(save_path)\n",
    "    except Exception as e:\n",
    "        print(f\"Failed to process {img_path.name}: {e}\")\n",
    "\n",
    "print(f\"? All images resized and saved to '{output_dir}'\")\n"
   ]
  },
  {
   "cell_type": "code",
   "execution_count": null,
   "id": "02a66da4-6373-4b79-9348-e2f9d5efb315",
   "metadata": {},
   "outputs": [],
   "source": [
    "import torch\n",
    "from diffusers import StableDiffusionPipeline\n",
    "from diffusers.loaders import AttnProcsLayers\n",
    "\n",
    "base_model = \"runwayml/stable-diffusion-v1-5\"\n",
    "lora_weights = \"./outputs/chikankari_lora\"\n",
    "\n",
    "pipe = StableDiffusionPipeline.from_pretrained(base_model, torch_dtype=torch.float16)\n",
    "pipe.to(\"cuda\")\n",
    "\n",
    "# Load LoRA weights\n",
    "lora_attn_procs = AttnProcsLayers.from_pretrained(lora_weights)\n",
    "pipe.unet.set_attn_processor(lora_attn_procs)\n",
    "\n",
    "# Inference\n",
    "prompt = \"a delicate floral Chikankari embroidery pattern on white fabric\"\n",
    "image = pipe(prompt).images[0]\n",
    "image.save(\"generated_chikankari.png\")\n",
    "image.show()\n"
   ]
  },
  {
   "cell_type": "code",
   "execution_count": null,
   "id": "a8c87029-e8be-431a-807d-fb95e0106ad3",
   "metadata": {},
   "outputs": [],
   "source": []
  }
 ],
 "metadata": {
  "kernelspec": {
   "display_name": "Python 3 (ipykernel)",
   "language": "python",
   "name": "python3"
  },
  "language_info": {
   "codemirror_mode": {
    "name": "ipython",
    "version": 3
   },
   "file_extension": ".py",
   "mimetype": "text/x-python",
   "name": "python",
   "nbconvert_exporter": "python",
   "pygments_lexer": "ipython3",
   "version": "3.12.3"
  }
 },
 "nbformat": 4,
 "nbformat_minor": 5
}
